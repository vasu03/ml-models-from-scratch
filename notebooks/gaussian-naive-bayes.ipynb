{
 "cells": [
  {
   "cell_type": "markdown",
   "id": "ebba9c4a",
   "metadata": {},
   "source": [
    "## **Testing simple scratch implementation of Gaussian Naive Bayes**"
   ]
  },
  {
   "cell_type": "markdown",
   "id": "4903a44e",
   "metadata": {},
   "source": [
    "##### **[1] Import depedencies & Env Setup**"
   ]
  },
  {
   "cell_type": "code",
   "execution_count": 73,
   "id": "629de419",
   "metadata": {},
   "outputs": [],
   "source": [
    "import sys\n",
    "import os\n",
    "\n",
    "# Get the absolute path of the project root\n",
    "project_root = os.path.abspath(os.path.join(os.getcwd(), '..'))\n",
    "if project_root not in sys.path:\n",
    "    sys.path.insert(0, project_root)"
   ]
  },
  {
   "cell_type": "code",
   "execution_count": 74,
   "id": "3495d18e",
   "metadata": {},
   "outputs": [],
   "source": [
    "# Import core libraries\n",
    "import importlib\n",
    "import numpy as np\n",
    "import pandas as pd\n",
    "import matplotlib.pyplot as plt\n",
    "import seaborn as sb\n",
    "\n",
    "# Import Scikit learn modeling libraries\n",
    "from sklearn.model_selection import train_test_split\n",
    "from sklearn.metrics import classification_report, confusion_matrix, accuracy_score\n",
    "from sklearn.naive_bayes import GaussianNB\n",
    "\n",
    "# Import custom Gaussian Naive Bayes Model\n",
    "from src.models.NaiveBayes import GaussianNaiveBayes\n",
    "importlib.reload(GaussianNaiveBayes)\n",
    "from src.models.NaiveBayes.GaussianNaiveBayes import GaussianNaiveBayes"
   ]
  },
  {
   "cell_type": "markdown",
   "id": "065f25e8",
   "metadata": {},
   "source": [
    "##### **[2] Initialize Custom GNB & SciKitLearn GNB models**"
   ]
  },
  {
   "cell_type": "code",
   "execution_count": 75,
   "id": "958dc8f6",
   "metadata": {},
   "outputs": [],
   "source": [
    "# Initialize Custom Gaussian Naive Bayes Model\n",
    "CGNB = GaussianNaiveBayes()\n",
    "# Initialize SK-Learn Gaussian Naive Bayes Model\n",
    "SKGNB = GaussianNB()"
   ]
  },
  {
   "cell_type": "markdown",
   "id": "844f3351",
   "metadata": {},
   "source": [
    "##### **[3] Data Preprocessing**"
   ]
  },
  {
   "cell_type": "code",
   "execution_count": 76,
   "id": "a72c508f",
   "metadata": {},
   "outputs": [
    {
     "data": {
      "text/html": [
       "<div>\n",
       "<style scoped>\n",
       "    .dataframe tbody tr th:only-of-type {\n",
       "        vertical-align: middle;\n",
       "    }\n",
       "\n",
       "    .dataframe tbody tr th {\n",
       "        vertical-align: top;\n",
       "    }\n",
       "\n",
       "    .dataframe thead th {\n",
       "        text-align: right;\n",
       "    }\n",
       "</style>\n",
       "<table border=\"1\" class=\"dataframe\">\n",
       "  <thead>\n",
       "    <tr style=\"text-align: right;\">\n",
       "      <th></th>\n",
       "      <th>id</th>\n",
       "      <th>diagnosis</th>\n",
       "      <th>radius_mean</th>\n",
       "      <th>texture_mean</th>\n",
       "      <th>perimeter_mean</th>\n",
       "      <th>area_mean</th>\n",
       "      <th>smoothness_mean</th>\n",
       "      <th>compactness_mean</th>\n",
       "      <th>concavity_mean</th>\n",
       "      <th>concave points_mean</th>\n",
       "      <th>...</th>\n",
       "      <th>radius_worst</th>\n",
       "      <th>texture_worst</th>\n",
       "      <th>perimeter_worst</th>\n",
       "      <th>area_worst</th>\n",
       "      <th>smoothness_worst</th>\n",
       "      <th>compactness_worst</th>\n",
       "      <th>concavity_worst</th>\n",
       "      <th>concave points_worst</th>\n",
       "      <th>symmetry_worst</th>\n",
       "      <th>fractal_dimension_worst</th>\n",
       "    </tr>\n",
       "  </thead>\n",
       "  <tbody>\n",
       "    <tr>\n",
       "      <th>0</th>\n",
       "      <td>842302</td>\n",
       "      <td>M</td>\n",
       "      <td>17.99</td>\n",
       "      <td>10.38</td>\n",
       "      <td>122.80</td>\n",
       "      <td>1001.0</td>\n",
       "      <td>0.11840</td>\n",
       "      <td>0.27760</td>\n",
       "      <td>0.3001</td>\n",
       "      <td>0.14710</td>\n",
       "      <td>...</td>\n",
       "      <td>25.38</td>\n",
       "      <td>17.33</td>\n",
       "      <td>184.60</td>\n",
       "      <td>2019.0</td>\n",
       "      <td>0.1622</td>\n",
       "      <td>0.6656</td>\n",
       "      <td>0.7119</td>\n",
       "      <td>0.2654</td>\n",
       "      <td>0.4601</td>\n",
       "      <td>0.11890</td>\n",
       "    </tr>\n",
       "    <tr>\n",
       "      <th>1</th>\n",
       "      <td>842517</td>\n",
       "      <td>M</td>\n",
       "      <td>20.57</td>\n",
       "      <td>17.77</td>\n",
       "      <td>132.90</td>\n",
       "      <td>1326.0</td>\n",
       "      <td>0.08474</td>\n",
       "      <td>0.07864</td>\n",
       "      <td>0.0869</td>\n",
       "      <td>0.07017</td>\n",
       "      <td>...</td>\n",
       "      <td>24.99</td>\n",
       "      <td>23.41</td>\n",
       "      <td>158.80</td>\n",
       "      <td>1956.0</td>\n",
       "      <td>0.1238</td>\n",
       "      <td>0.1866</td>\n",
       "      <td>0.2416</td>\n",
       "      <td>0.1860</td>\n",
       "      <td>0.2750</td>\n",
       "      <td>0.08902</td>\n",
       "    </tr>\n",
       "    <tr>\n",
       "      <th>2</th>\n",
       "      <td>84300903</td>\n",
       "      <td>M</td>\n",
       "      <td>19.69</td>\n",
       "      <td>21.25</td>\n",
       "      <td>130.00</td>\n",
       "      <td>1203.0</td>\n",
       "      <td>0.10960</td>\n",
       "      <td>0.15990</td>\n",
       "      <td>0.1974</td>\n",
       "      <td>0.12790</td>\n",
       "      <td>...</td>\n",
       "      <td>23.57</td>\n",
       "      <td>25.53</td>\n",
       "      <td>152.50</td>\n",
       "      <td>1709.0</td>\n",
       "      <td>0.1444</td>\n",
       "      <td>0.4245</td>\n",
       "      <td>0.4504</td>\n",
       "      <td>0.2430</td>\n",
       "      <td>0.3613</td>\n",
       "      <td>0.08758</td>\n",
       "    </tr>\n",
       "    <tr>\n",
       "      <th>3</th>\n",
       "      <td>84348301</td>\n",
       "      <td>M</td>\n",
       "      <td>11.42</td>\n",
       "      <td>20.38</td>\n",
       "      <td>77.58</td>\n",
       "      <td>386.1</td>\n",
       "      <td>0.14250</td>\n",
       "      <td>0.28390</td>\n",
       "      <td>0.2414</td>\n",
       "      <td>0.10520</td>\n",
       "      <td>...</td>\n",
       "      <td>14.91</td>\n",
       "      <td>26.50</td>\n",
       "      <td>98.87</td>\n",
       "      <td>567.7</td>\n",
       "      <td>0.2098</td>\n",
       "      <td>0.8663</td>\n",
       "      <td>0.6869</td>\n",
       "      <td>0.2575</td>\n",
       "      <td>0.6638</td>\n",
       "      <td>0.17300</td>\n",
       "    </tr>\n",
       "    <tr>\n",
       "      <th>4</th>\n",
       "      <td>84358402</td>\n",
       "      <td>M</td>\n",
       "      <td>20.29</td>\n",
       "      <td>14.34</td>\n",
       "      <td>135.10</td>\n",
       "      <td>1297.0</td>\n",
       "      <td>0.10030</td>\n",
       "      <td>0.13280</td>\n",
       "      <td>0.1980</td>\n",
       "      <td>0.10430</td>\n",
       "      <td>...</td>\n",
       "      <td>22.54</td>\n",
       "      <td>16.67</td>\n",
       "      <td>152.20</td>\n",
       "      <td>1575.0</td>\n",
       "      <td>0.1374</td>\n",
       "      <td>0.2050</td>\n",
       "      <td>0.4000</td>\n",
       "      <td>0.1625</td>\n",
       "      <td>0.2364</td>\n",
       "      <td>0.07678</td>\n",
       "    </tr>\n",
       "  </tbody>\n",
       "</table>\n",
       "<p>5 rows × 32 columns</p>\n",
       "</div>"
      ],
      "text/plain": [
       "         id diagnosis  radius_mean  texture_mean  perimeter_mean  area_mean  \\\n",
       "0    842302         M        17.99         10.38          122.80     1001.0   \n",
       "1    842517         M        20.57         17.77          132.90     1326.0   \n",
       "2  84300903         M        19.69         21.25          130.00     1203.0   \n",
       "3  84348301         M        11.42         20.38           77.58      386.1   \n",
       "4  84358402         M        20.29         14.34          135.10     1297.0   \n",
       "\n",
       "   smoothness_mean  compactness_mean  concavity_mean  concave points_mean  \\\n",
       "0          0.11840           0.27760          0.3001              0.14710   \n",
       "1          0.08474           0.07864          0.0869              0.07017   \n",
       "2          0.10960           0.15990          0.1974              0.12790   \n",
       "3          0.14250           0.28390          0.2414              0.10520   \n",
       "4          0.10030           0.13280          0.1980              0.10430   \n",
       "\n",
       "   ...  radius_worst  texture_worst  perimeter_worst  area_worst  \\\n",
       "0  ...         25.38          17.33           184.60      2019.0   \n",
       "1  ...         24.99          23.41           158.80      1956.0   \n",
       "2  ...         23.57          25.53           152.50      1709.0   \n",
       "3  ...         14.91          26.50            98.87       567.7   \n",
       "4  ...         22.54          16.67           152.20      1575.0   \n",
       "\n",
       "   smoothness_worst  compactness_worst  concavity_worst  concave points_worst  \\\n",
       "0            0.1622             0.6656           0.7119                0.2654   \n",
       "1            0.1238             0.1866           0.2416                0.1860   \n",
       "2            0.1444             0.4245           0.4504                0.2430   \n",
       "3            0.2098             0.8663           0.6869                0.2575   \n",
       "4            0.1374             0.2050           0.4000                0.1625   \n",
       "\n",
       "   symmetry_worst  fractal_dimension_worst  \n",
       "0          0.4601                  0.11890  \n",
       "1          0.2750                  0.08902  \n",
       "2          0.3613                  0.08758  \n",
       "3          0.6638                  0.17300  \n",
       "4          0.2364                  0.07678  \n",
       "\n",
       "[5 rows x 32 columns]"
      ]
     },
     "execution_count": 76,
     "metadata": {},
     "output_type": "execute_result"
    }
   ],
   "source": [
    "# Get the Breast Cancer Data\n",
    "data = pd.read_csv(\"../data/breast-cancer-wisconsin.csv\")\n",
    "data.head()"
   ]
  },
  {
   "cell_type": "code",
   "execution_count": 77,
   "id": "75dba9ff",
   "metadata": {},
   "outputs": [
    {
     "data": {
      "text/plain": [
       "array(['M', 'B'], dtype=object)"
      ]
     },
     "execution_count": 77,
     "metadata": {},
     "output_type": "execute_result"
    }
   ],
   "source": [
    "data[\"diagnosis\"].unique()"
   ]
  },
  {
   "cell_type": "code",
   "execution_count": 78,
   "id": "0262fb66",
   "metadata": {},
   "outputs": [
    {
     "name": "stdout",
     "output_type": "stream",
     "text": [
      "Training samples: 455 | Testing samples: 114\n"
     ]
    }
   ],
   "source": [
    "# Drop the ID column\n",
    "data.drop(columns=[\"id\"], inplace=True)\n",
    "\n",
    "# Convert Diagnosis to numeric values\n",
    "data[\"diagnosis\"] = data[\"diagnosis\"].map({'M': 1, 'B': 0})\n",
    "target_names = [\"malignant\", \"benign\"]\n",
    "\n",
    "# Separate the features and targets\n",
    "X = data.drop(columns=[\"diagnosis\"])\n",
    "y = data[\"diagnosis\"]\n",
    "\n",
    "# Split the data into training and testing sets\n",
    "X_train, X_test, y_train, y_test = train_test_split(X, y, test_size=0.2, stratify=y, random_state=42)\n",
    "\n",
    "print(f\"Training samples: {X_train.shape[0]} | Testing samples: {X_test.shape[0]}\")"
   ]
  },
  {
   "cell_type": "markdown",
   "id": "9fed4fd3",
   "metadata": {},
   "source": [
    "##### **[4] Train Custom GNB & SKLearn GNB models**"
   ]
  },
  {
   "cell_type": "code",
   "execution_count": 79,
   "id": "9e4c8e12",
   "metadata": {},
   "outputs": [],
   "source": [
    "# Train the SK-Learn Gaussian Naive Bayes Model\n",
    "SKGNB.fit(X_train, y_train)\n",
    "# Train the Custom Gaussian Naive Bayes Model\n",
    "CGNB.fit(X_train, y_train)"
   ]
  },
  {
   "cell_type": "markdown",
   "id": "2f8e79af",
   "metadata": {},
   "source": [
    "##### **[5] Make predictions using Custom GNB & SKLearn GNB models**"
   ]
  },
  {
   "cell_type": "code",
   "execution_count": 80,
   "id": "68e5a5da",
   "metadata": {},
   "outputs": [],
   "source": [
    "# Make predictions using SK-Learn GNB model\n",
    "y_pred_skgnb = SKGNB.predict(X_test)\n",
    "# Make predictions using Custom GNB model\n",
    "y_pred_cgnb = CGNB.predict(X_test)"
   ]
  },
  {
   "cell_type": "code",
   "execution_count": 81,
   "id": "babd50b8",
   "metadata": {},
   "outputs": [],
   "source": [
    "# Make prediction for Posterior probabilites using SK-Learn GNB model\n",
    "y_prob_pred_skgnb = SKGNB.predict_proba(X_test)\n",
    "# Make prediction for Posterior probabilites using Custom GNB model\n",
    "y_prob_pred_cgnb = CGNB.predict_probability(X_test)"
   ]
  },
  {
   "cell_type": "markdown",
   "id": "4c8b50c3",
   "metadata": {},
   "source": [
    "##### **[6] Evaluate Custom GNB & SKLearn GNB models**"
   ]
  },
  {
   "cell_type": "code",
   "execution_count": 86,
   "id": "587d8d40",
   "metadata": {},
   "outputs": [
    {
     "name": "stdout",
     "output_type": "stream",
     "text": [
      "[*] Accuracy Score for SK-Learn GNB model: 93.85964912280701%\n",
      "[*] Classification Report for SK-Learn GNB model\n",
      "\n",
      "               precision    recall  f1-score   support\n",
      "\n",
      "   malignant       0.91      1.00      0.95        72\n",
      "      benign       1.00      0.83      0.91        42\n",
      "\n",
      "    accuracy                           0.94       114\n",
      "   macro avg       0.96      0.92      0.93       114\n",
      "weighted avg       0.94      0.94      0.94       114\n",
      "\n",
      "[*] Accuracy Score for Custom GNB model: 92.10526315789474%\n",
      "[*] Classification Report for Custom GNB model\n",
      "\n",
      "               precision    recall  f1-score   support\n",
      "\n",
      "   malignant       0.92      0.96      0.94        72\n",
      "      benign       0.92      0.86      0.89        42\n",
      "\n",
      "    accuracy                           0.92       114\n",
      "   macro avg       0.92      0.91      0.91       114\n",
      "weighted avg       0.92      0.92      0.92       114\n",
      "\n"
     ]
    }
   ],
   "source": [
    "# Classification report for SK-Learn GNB model\n",
    "print(f\"[*] Accuracy Score for SK-Learn GNB model: {accuracy_score(y_test, y_pred_skgnb) * 100}%\")\n",
    "print(f\"[*] Classification Report for SK-Learn GNB model\\n\\n {classification_report(y_test, y_pred_skgnb, target_names=target_names)}\")\n",
    "# Classfication report for Custom GNB model\n",
    "print(f\"[*] Accuracy Score for Custom GNB model: {accuracy_score(y_test, y_pred_cgnb) * 100}%\")\n",
    "print(f\"[*] Classification Report for Custom GNB model\\n\\n {classification_report(y_test, y_pred_cgnb, target_names=target_names)}\")"
   ]
  },
  {
   "cell_type": "code",
   "execution_count": 83,
   "id": "76452e52",
   "metadata": {},
   "outputs": [],
   "source": [
    "# Confusion matrix for SK-Learn GNB model\n",
    "skgnb_conf_mat = confusion_matrix(y_test, y_pred_skgnb)\n",
    "# Confusion matrix for Custom GNB model\n",
    "cgnb_conf_mat = confusion_matrix(y_test, y_pred_cgnb)"
   ]
  },
  {
   "cell_type": "code",
   "execution_count": 84,
   "id": "8433c6bc",
   "metadata": {},
   "outputs": [
    {
     "data": {
      "image/png": "[encoded data removed]",
      "text/plain": [
       "<Figure size 1500x400 with 4 Axes>"
      ]
     },
     "metadata": {},
     "output_type": "display_data"
    }
   ],
   "source": [
    "fig, axes = plt.subplots(1, 2, figsize=(15, 4))\n",
    "labels = [\"malignant\", \"benign\"]\n",
    "\n",
    "sb.heatmap(cgnb_conf_mat, annot=True, fmt='d', cmap=\"Greens\", ax=axes[0], xticklabels=labels, yticklabels=labels)\n",
    "axes[0].set_title(\"Custom Gaussian NB\")\n",
    "\n",
    "sb.heatmap(skgnb_conf_mat, annot=True, fmt=\"d\", cmap=\"Blues\", ax=axes[1], xticklabels=labels, yticklabels=labels)\n",
    "axes[1].set_title(\"SK-Learn Gaussian NB\")\n",
    "\n",
    "for ax in axes:\n",
    "    ax.set_xlabel(\"Predicted\")\n",
    "    ax.set_ylabel(\"Actual\")\n",
    "\n",
    "plt.show()"
   ]
  },
  {
   "cell_type": "code",
   "execution_count": 85,
   "id": "53a35ad7",
   "metadata": {},
   "outputs": [
    {
     "data": {
      "image/png": "[encoded data removed]",
      "text/plain": [
       "<Figure size 2500x500 with 4 Axes>"
      ]
     },
     "metadata": {},
     "output_type": "display_data"
    }
   ],
   "source": [
    "# Create subplots for visual comparison\n",
    "fig, axes = plt.subplots(1, 4, figsize=(25, 5))\n",
    "\n",
    "# Plot probability of positive class (e.g., \"malignant\" or class=1)\n",
    "sb.histplot(y_prob_pred_skgnb[:, 1], bins=20, kde=True, color='blue', ax=axes[0])\n",
    "axes[0].set_title(\"SK-Learn GaussianNB - P(Malignant)\")\n",
    "\n",
    "sb.histplot(y_prob_pred_cgnb[:, 1], bins=20, kde=True, color='green', ax=axes[1])\n",
    "axes[1].set_title(\"Custom GaussianNB - P(Malignant)\")\n",
    "\n",
    "# Plot probability of positive class (e.g., \"Benign\" or class=0)\n",
    "sb.histplot(y_prob_pred_skgnb[:, 0], bins=20, kde=True, color='blue', ax=axes[2])\n",
    "axes[2].set_title(\"SK-Learn GaussianNB - P(Benign)\")\n",
    "\n",
    "sb.histplot(y_prob_pred_cgnb[:, 0], bins=20, kde=True, color='green', ax=axes[3])\n",
    "axes[3].set_title(\"Custom GaussianNB - P(Benign)\")\n",
    "\n",
    "for ax in axes:\n",
    "    ax.set_xlabel(\"Predicted Probability\")\n",
    "    ax.set_ylabel(\"Frequency\")\n",
    "\n",
    "plt.show()"
   ]
  },
  {
   "cell_type": "code",
   "execution_count": null,
   "id": "24eb867a",
   "metadata": {},
   "outputs": [],
   "source": []
  },
  {
   "cell_type": "code",
   "execution_count": null,
   "id": "034eae67",
   "metadata": {},
   "outputs": [],
   "source": []
  },
  {
   "cell_type": "code",
   "execution_count": null,
   "id": "fba9d1bb",
   "metadata": {},
   "outputs": [],
   "source": []
  },
  {
   "cell_type": "code",
   "execution_count": null,
   "id": "753d0f99",
   "metadata": {},
   "outputs": [],
   "source": []
  },
  {
   "cell_type": "code",
   "execution_count": null,
   "id": "6b1a05d0",
   "metadata": {},
   "outputs": [],
   "source": []
  },
  {
   "cell_type": "code",
   "execution_count": null,
   "id": "bd0d8d0f",
   "metadata": {},
   "outputs": [],
   "source": []
  },
  {
   "cell_type": "code",
   "execution_count": null,
   "id": "0da8750b",
   "metadata": {},
   "outputs": [],
   "source": []
  },
  {
   "cell_type": "code",
   "execution_count": null,
   "id": "9c565d62",
   "metadata": {},
   "outputs": [],
   "source": []
  },
  {
   "cell_type": "code",
   "execution_count": null,
   "id": "7cd9cdc0",
   "metadata": {},
   "outputs": [],
   "source": []
  },
  {
   "cell_type": "code",
   "execution_count": null,
   "id": "75ebaf8f",
   "metadata": {},
   "outputs": [],
   "source": []
  },
  {
   "cell_type": "code",
   "execution_count": null,
   "id": "04837cfc",
   "metadata": {},
   "outputs": [],
   "source": []
  },
  {
   "cell_type": "code",
   "execution_count": null,
   "id": "62bc0532",
   "metadata": {},
   "outputs": [],
   "source": []
  },
  {
   "cell_type": "code",
   "execution_count": null,
   "id": "c911e7a2",
   "metadata": {},
   "outputs": [],
   "source": []
  },
  {
   "cell_type": "code",
   "execution_count": null,
   "id": "e5d1ab1a",
   "metadata": {},
   "outputs": [],
   "source": []
  },
  {
   "cell_type": "code",
   "execution_count": null,
   "id": "54befef4",
   "metadata": {},
   "outputs": [],
   "source": []
  }
 ],
 "metadata": {
  "kernelspec": {
   "display_name": "venv (3.12.3)",
   "language": "python",
   "name": "python3"
  },
  "language_info": {
   "codemirror_mode": {
    "name": "ipython",
    "version": 3
   },
   "file_extension": ".py",
   "mimetype": "text/x-python",
   "name": "python",
   "nbconvert_exporter": "python",
   "pygments_lexer": "ipython3",
   "version": "3.12.3"
  }
 },
 "nbformat": 4,
 "nbformat_minor": 5
}
